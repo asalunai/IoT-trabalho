{
  "nbformat": 4,
  "nbformat_minor": 0,
  "metadata": {
    "colab": {
      "name": "teste_ana.ipynb",
      "provenance": [],
      "collapsed_sections": [],
      "authorship_tag": "ABX9TyMMawbSTgiuNTb/6dumYp1p",
      "include_colab_link": true
    },
    "kernelspec": {
      "name": "python3",
      "display_name": "Python 3"
    }
  },
  "cells": [
    {
      "cell_type": "markdown",
      "metadata": {
        "id": "view-in-github",
        "colab_type": "text"
      },
      "source": [
        "<a href=\"https://colab.research.google.com/github/asalunai/IoT-trabalho/blob/main/teste_ana.ipynb\" target=\"_parent\"><img src=\"https://colab.research.google.com/assets/colab-badge.svg\" alt=\"Open In Colab\"/></a>"
      ]
    },
    {
      "cell_type": "code",
      "metadata": {
        "id": "7fhzaLapyebF"
      },
      "source": [
        "# -*- coding: utf-8 -*-\n",
        "\n",
        "import numpy as np\n",
        "import pandas as pd\n",
        "import requests "
      ],
      "execution_count": 1,
      "outputs": []
    },
    {
      "cell_type": "code",
      "metadata": {
        "id": "mMig29t17OY2"
      },
      "source": [
        "def baixa(est, datai, dataf):\n",
        "\n",
        "  # baixa os dados e converte em JSON:\n",
        "  url = 'https://apitempo.inmet.gov.br/estacao/' + datai + '/' + dataf + '/' + est\n",
        "  r = requests.get(url)\n",
        "  info = r.json()\n",
        "  # print(info[0])\n",
        "\n",
        "  # transforma os dados em JSON em Dataframe:\n",
        "  df = pd.DataFrame(info)\n",
        "  colunas = ['DT_MEDICAO', 'HR_MEDICAO','TEM_MAX','TEM_MIN']\n",
        "  df = df[colunas]\n",
        "\n",
        "  # formata data:\n",
        "  df['HR_MEDICAO'] = df['HR_MEDICAO'].astype(str).str.zfill(4)\n",
        "  df['HR_MEDICAO'] = df['HR_MEDICAO'].str[:2]\n",
        "  df['DT_MEDICAO'] = df['DT_MEDICAO'] + ' ' + df['HR_MEDICAO'] + ':00'\n",
        "  df.drop('HR_MEDICAO', axis=1, inplace=True)\n",
        "\n",
        "  # Define a data da medição como index:\n",
        "  df.set_index('DT_MEDICAO', inplace=True)\n",
        "  df.index = pd.to_datetime(df.index)\n",
        "\n",
        "  # calcula a temperatura média:\n",
        "  df = df.apply(pd.to_numeric, errors='coerce')\n",
        "  df['TEM_MED'] = (df['TEM_MAX'] + df['TEM_MIN']) / 2\n",
        "  df.drop(['TEM_MAX', 'TEM_MIN'], axis=1, inplace=True)\n",
        "\n",
        "  # calcula máximas e mínimas diárias:\n",
        "  df_med = df.resample('D').count()\n",
        "  df_med.columns = ['Contagem']\n",
        "  df_med['TP_MAX'] = df['TEM_MED'].resample('D').max()\n",
        "  df_med['TP_MIN'] = df['TEM_MED'].resample('D').min()\n",
        "\n",
        "  # se um dia apresentar menos do que 75% dos dados esperados, \n",
        "  # então considere esse dia como sendo não-representativo \n",
        "  # para o cálculo das máximas e mínimas diárias:\n",
        "  #df_med.iloc[2,0] = 3 #teste\n",
        "  df_med.loc[(df_med.Contagem < 24*0.75), ['TP_MAX', 'TP_MIN']] = np.nan\n",
        "\n",
        "  # Salva o arquivo em um CSV\n",
        "  df_med.to_csv(est+'.csv', float_format='%.3f')\n",
        "\n",
        "  return"
      ],
      "execution_count": 4,
      "outputs": []
    },
    {
      "cell_type": "code",
      "metadata": {
        "id": "LxqhQ-SKxD7m",
        "outputId": "fe2bd381-3c9d-41ad-c3d9-35e0a893bfc5",
        "colab": {
          "base_uri": "https://localhost:8080/",
          "height": 102
        }
      },
      "source": [
        "# Formato da data: AAAA-MM-DD\n",
        "datai = '2019-09-01'\n",
        "dataf = '2020-09-30'\n",
        "est_cod = ['A621', 'A618', 'A606', 'A609', 'A607']\n",
        "nomes = ['Vila Militar', 'Teresópolis', 'Cabo Frio', 'Resende', 'Campos dos Goytacazes']\n",
        "\n",
        "for est in est_cod:\n",
        "  print(est)\n",
        "  baixa(est, datai, dataf)\n"
      ],
      "execution_count": 6,
      "outputs": [
        {
          "output_type": "stream",
          "text": [
            "A621\n",
            "A618\n",
            "A606\n",
            "A609\n",
            "A607\n"
          ],
          "name": "stdout"
        }
      ]
    }
  ]
}