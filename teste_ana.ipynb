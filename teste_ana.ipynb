{
  "nbformat": 4,
  "nbformat_minor": 0,
  "metadata": {
    "colab": {
      "name": "teste_ana.ipynb",
      "provenance": [],
      "collapsed_sections": [],
      "mount_file_id": "https://github.com/asalunai/IoT-trabalho/blob/main/teste_ana.ipynb",
      "authorship_tag": "ABX9TyO7GUxxAEp5J4ND7olhs3qf",
      "include_colab_link": true
    },
    "kernelspec": {
      "name": "python3",
      "display_name": "Python 3"
    }
  },
  "cells": [
    {
      "cell_type": "markdown",
      "metadata": {
        "id": "view-in-github",
        "colab_type": "text"
      },
      "source": [
        "<a href=\"https://colab.research.google.com/github/asalunai/IoT-trabalho/blob/main/teste_ana.ipynb\" target=\"_parent\"><img src=\"https://colab.research.google.com/assets/colab-badge.svg\" alt=\"Open In Colab\"/></a>"
      ]
    },
    {
      "cell_type": "code",
      "metadata": {
        "id": "7fhzaLapyebF"
      },
      "source": [
        "# -*- coding: utf-8 -*-\n",
        "\n",
        "import numpy as np\n",
        "import pandas as pd\n",
        "import requests "
      ],
      "execution_count": null,
      "outputs": []
    },
    {
      "cell_type": "code",
      "metadata": {
        "id": "mMig29t17OY2"
      },
      "source": [
        "def baixa(est, datai, dataf):\n",
        "\n",
        "  # baixa os dados e converte em JSON:\n",
        "  url = 'https://apitempo.inmet.gov.br/estacao/' + datai + '/' + dataf + '/' + est\n",
        "  r = requests.get(url)\n",
        "  info = r.json()\n",
        "  # print(info[0])\n",
        "\n",
        "  # transforma os dados em JSON em Dataframe:\n",
        "  df = pd.DataFrame(info)\n",
        "  colunas = ['DT_MEDICAO', 'HR_MEDICAO','TEM_MAX','TEM_MIN']\n",
        "  df = df[colunas]\n",
        "\n",
        "  # formata data:\n",
        "  df['HR_MEDICAO'] = df['HR_MEDICAO'].astype(str).str.zfill(4)\n",
        "  df['HR_MEDICAO'] = df['HR_MEDICAO'].str[:2]\n",
        "  df['DT_MEDICAO'] = df['DT_MEDICAO'] + ' ' + df['HR_MEDICAO'] + ':00'\n",
        "  df.drop('HR_MEDICAO', axis=1, inplace=True)\n",
        "\n",
        "  # Define a data da medição como index:\n",
        "  df.set_index('DT_MEDICAO', inplace=True)\n",
        "  df.index = pd.to_datetime(df.index)\n",
        "\n",
        "  # calcula a temperatura média:\n",
        "  df = df.apply(pd.to_numeric, errors='coerce')\n",
        "  df['TEM_MED'] = (df['TEM_MAX'] + df['TEM_MIN']) / 2\n",
        "  df.drop(['TEM_MAX', 'TEM_MIN'], axis=1, inplace=True)\n",
        "\n",
        "  # calcula máximas e mínimas diárias:\n",
        "  df_med = df.resample('D').count()\n",
        "  df_med.columns = ['Contagem']\n",
        "  df_med['TP_MAX'] = df['TEM_MED'].resample('D').max()\n",
        "  df_med['TP_MIN'] = df['TEM_MED'].resample('D').min()\n",
        "\n",
        "  # se um dia apresentar menos do que 75% dos dados esperados, \n",
        "  # então considere esse dia como sendo não-representativo \n",
        "  # para o cálculo das máximas e mínimas diárias:\n",
        "  #df_med.iloc[2,0] = 3 #teste\n",
        "  df_med.loc[(df_med.Contagem < 24*0.75), ['TP_MAX', 'TP_MIN']] = np.nan\n",
        "\n",
        "  # Salva o arquivo em um CSV\n",
        "  df_med.to_csv(est+'.csv', float_format='%.3f')\n",
        "\n",
        "  return"
      ],
      "execution_count": null,
      "outputs": []
    },
    {
      "cell_type": "code",
      "metadata": {
        "id": "LxqhQ-SKxD7m",
        "colab": {
          "base_uri": "https://localhost:8080/"
        },
        "outputId": "62097426-44e6-420b-b7a7-666dc6824fa6"
      },
      "source": [
        "# Formato da data: AAAA-MM-DD\n",
        "datai = '2019-09-01'\n",
        "dataf = '2020-09-30'\n",
        "#est_cod = ['A621', 'A618', 'A606', 'A609', 'A607']\n",
        "#nomes = ['Vila Militar', 'Teresópolis', 'Cabo Frio', 'Resende', 'Campos dos Goytacazes']\n",
        "\n",
        "est_cod = ['A899','A801','A806','A873','A765','A652','A612','A802','A878','A834','A808','A867','A866','A868','A851','A712','A767','A619','A602','A667','A606','A608','A620','A615','A634']\n",
        "nomes = ['Santa Vitória Do Palmar','Porto Alegre','Florianopolis','Morretes','Bertioga','Rio De Janeiro - Copacabana','Vitória','Rio Grande','Mostardas','Tramandai','Torres','Ararangua','Laguna - Farol De Santa Marta','Itajai','Itapoá','Iguape','São Sebastião','Paratí','Rio De Janeiro-Marambaia','Saquarema','Arraial Do Cabo','Macaé','Campos Dos Goytacazes - São Tomé','Alfredo Chaves','Vila Velha']\n",
        "\n",
        "for est in est_cod:\n",
        "  print(est)\n",
        "  baixa(est, datai, dataf)\n"
      ],
      "execution_count": null,
      "outputs": [
        {
          "output_type": "stream",
          "text": [
            "A899\n",
            "A801\n",
            "A806\n",
            "A873\n",
            "A765\n"
          ],
          "name": "stdout"
        },
        {
          "output_type": "stream",
          "text": [
            "/usr/local/lib/python3.7/dist-packages/ipykernel_launcher.py:15: SettingWithCopyWarning: \n",
            "A value is trying to be set on a copy of a slice from a DataFrame.\n",
            "Try using .loc[row_indexer,col_indexer] = value instead\n",
            "\n",
            "See the caveats in the documentation: https://pandas.pydata.org/pandas-docs/stable/user_guide/indexing.html#returning-a-view-versus-a-copy\n",
            "  from ipykernel import kernelapp as app\n"
          ],
          "name": "stderr"
        },
        {
          "output_type": "stream",
          "text": [
            "A652\n",
            "A612\n",
            "A802\n",
            "A878\n",
            "A834\n",
            "A808\n",
            "A867\n",
            "A866\n",
            "A868\n",
            "A851\n",
            "A712\n",
            "A767\n",
            "A619\n",
            "A602\n",
            "A667\n",
            "A606\n",
            "A608\n",
            "A620\n",
            "A615\n",
            "A634\n"
          ],
          "name": "stdout"
        }
      ]
    },
    {
      "cell_type": "markdown",
      "metadata": {
        "id": "pKnglNSAI3sq"
      },
      "source": [
        "A802 - Rio Grande\n",
        "A878 - Mostardas \n",
        "A834 - Tramandai\n",
        "A808 - Torres\n",
        "A867 - Ararangua\n",
        "A866 - Laguna - Farol De Santa Marta\n",
        "A868 - Itajai\n",
        "A851 - Itapoá\n",
        "A712 - Iguape \n",
        "A767 - São Sebastião\n",
        "A619 - Paratí\n",
        "A602 - Rio De Janeiro-Marambaia\n",
        "A667 - Saquarema\n",
        "A606 - Arraial Do Cabo\n",
        "A608 - Macaé \n",
        "A620 - Campos Dos Goytacazes - São Tomé \n",
        "A615 - Alfredo Chaves\n",
        "A634 - Vila Velha\n",
        "\n",
        "\n"
      ]
    }
  ]
}